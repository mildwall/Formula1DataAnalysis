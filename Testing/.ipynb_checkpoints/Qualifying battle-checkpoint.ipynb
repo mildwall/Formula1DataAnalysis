{
 "cells": [
  {
   "cell_type": "code",
   "execution_count": 1,
   "id": "530f022f",
   "metadata": {},
   "outputs": [],
   "source": [
    "import pandas as pd\n",
    "import requests\n",
    "\n",
    "# Don't forget to 'pip install fastf1'\n",
    "import fastf1 as ff1\n",
    "from fastf1 import plotting\n",
    "\n",
    "# Don't forget to 'pip install seaborn'\n",
    "import seaborn as sns\n",
    "import matplotlib.pyplot as plt"
   ]
  },
  {
   "cell_type": "code",
   "execution_count": 2,
   "id": "f371e0a8",
   "metadata": {},
   "outputs": [],
   "source": [
    "\n",
    "def ergast_retrieve(api_endpoint: str):\n",
    "    url = f'https://ergast.com/api/f1/{api_endpoint}.json'\n",
    "    response = requests.get(url).json()\n",
    "    \n",
    "    return response['MRData']"
   ]
  },
  {
   "cell_type": "code",
   "execution_count": 3,
   "id": "96572843",
   "metadata": {},
   "outputs": [],
   "source": [
    "# By changing these params you can easily get other seasons \n",
    "season = 2021\n",
    "drivers_to_exclude = ['KUB']"
   ]
  },
  {
   "cell_type": "code",
   "execution_count": 4,
   "id": "c3d55497",
   "metadata": {},
   "outputs": [],
   "source": [
    "all_quali_results = pd.DataFrame()\n",
    "\n",
    "# We want this so that we know which driver belongs to which team, so we can color them later\n",
    "team_drivers = {}\n",
    "\n",
    "current_round = 1\n",
    "\n",
    "while True:\n",
    "    race = ergast_retrieve(f'{season}/{current_round}/qualifying')\n",
    "    \n",
    "    # If session doesn't exist, cancel loop\n",
    "    if not race['RaceTable']['Races']:\n",
    "        break\n",
    "\n",
    "    results = race['RaceTable']['Races'][0]['QualifyingResults']\n",
    "\n",
    "    quali_results = {'round': current_round}\n",
    "\n",
    "    for j in range(len(results)):\n",
    "        driver = results[j]['Driver']['code']\n",
    "        position = int(results[j]['position'])\n",
    "        team = results[j]['Constructor']['name']\n",
    "        \n",
    "        if driver in drivers_to_exclude:\n",
    "            continue\n",
    "        \n",
    "        # Create mapping for driver - team\n",
    "        if not team in team_drivers:\n",
    "            team_drivers[team] = [driver]\n",
    "        else:\n",
    "            if not driver in team_drivers[team]:\n",
    "                team_drivers[team].append(driver)\n",
    "                \n",
    "        quali_results[driver] = position\n",
    "            \n",
    "    all_quali_results = all_quali_results.append(quali_results, ignore_index=True)\n",
    "    \n",
    "    current_round += 1"
   ]
  },
  {
   "cell_type": "code",
   "execution_count": 5,
   "id": "dee58bfa",
   "metadata": {},
   "outputs": [],
   "source": [
    "# Now we want to know, per round, per team, who qualified higher?\n",
    "all_quali_battle_results = []\n",
    "team_colors_palette = []\n",
    "\n",
    "for team in team_drivers:\n",
    "    drivers = team_drivers[team]\n",
    "    \n",
    "    quali_results = all_quali_results[drivers]\n",
    "    \n",
    "    # We do dropna() to only include the sessions in which both drivers participated\n",
    "    fastest_driver_per_round = quali_results.dropna().idxmin(axis=1)\n",
    "    \n",
    "    quali_battle_result = fastest_driver_per_round.value_counts().reset_index()\n",
    "    \n",
    "    for _, driver in quali_battle_result.iterrows():\n",
    "        all_quali_battle_results.append({\n",
    "            'driver': driver['index'],\n",
    "            'team': team,\n",
    "            'quali_score': driver[0]\n",
    "        })\n",
    "    \n",
    "    team_colors_palette.append(ff1.plotting.team_color(team))\n",
    "    # If none, replace None with grey\n",
    "    team_colors_palette = ['#D3D3D3' if v is None else v for v in team_colors_palette]\n",
    "\n",
    "\n",
    "# Finally, convert to a DataFrame so we can plot\n",
    "all_quali_battle_results = pd.DataFrame.from_dict(all_quali_battle_results)"
   ]
  },
  {
   "cell_type": "code",
   "execution_count": 6,
   "id": "433d04ef",
   "metadata": {},
   "outputs": [
    {
     "data": {
      "image/png": "[encoded data removed]",
      "text/plain": [
       "<Figure size 842.4x595.44 with 1 Axes>"
      ]
     },
     "metadata": {},
     "output_type": "display_data"
    }
   ],
   "source": [
    "# Increase the size of the plot \n",
    "sns.set(rc={'figure.figsize':(11.7,8.27)})\n",
    "\n",
    "# Create custom color palette\n",
    "custom_palette = sns.set_palette(sns.color_palette(team_colors_palette))\n",
    "\n",
    "fig, ax = plt.subplots()\n",
    "\n",
    "ax.set_title(f\"{season} Teammate Qualifying Battle\")\n",
    "\n",
    "g = sns.barplot(\n",
    "    x='driver',\n",
    "    y='quali_score', \n",
    "    hue='team',\n",
    "    data=all_quali_battle_results, \n",
    "    dodge=False,\n",
    "    palette=custom_palette,\n",
    ")\n",
    "\n",
    "plt.yticks(range(max(all_quali_battle_results['quali_score']) + 1))\n",
    "\n",
    "plt.legend([],[], frameon=False)\n",
    "\n",
    "g.set(xlabel=None)\n",
    "g.set(ylabel=None)\n",
    "\n",
    "plt.savefig('img/qualifying_battles.png')\n",
    "\n",
    "plt.show()"
   ]
  },
  {
   "cell_type": "code",
   "execution_count": null,
   "id": "267a55c0",
   "metadata": {},
   "outputs": [],
   "source": []
  }
 ],
 "metadata": {
  "kernelspec": {
   "display_name": "Python 3 (ipykernel)",
   "language": "python",
   "name": "python3"
  },
  "language_info": {
   "codemirror_mode": {
    "name": "ipython",
    "version": 3
   },
   "file_extension": ".py",
   "mimetype": "text/x-python",
   "name": "python",
   "nbconvert_exporter": "python",
   "pygments_lexer": "ipython3",
   "version": "3.9.7"
  }
 },
 "nbformat": 4,
 "nbformat_minor": 5
}
